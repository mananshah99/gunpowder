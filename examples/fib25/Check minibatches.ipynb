{
 "cells": [
  {
   "cell_type": "code",
   "execution_count": 2,
   "metadata": {
    "collapsed": false
   },
   "outputs": [],
   "source": [
    "import glob\n",
    "\n",
    "import neuroglancer\n",
    "import nyroglancer"
   ]
  },
  {
   "cell_type": "code",
   "execution_count": 3,
   "metadata": {
    "collapsed": false
   },
   "outputs": [
    {
     "name": "stdout",
     "output_type": "stream",
     "text": [
      "['./snapshots/batch_00000000.hdf',\n",
      " './snapshots/batch_00000001.hdf',\n",
      " './snapshots/batch_00000002.hdf',\n",
      " './snapshots/batch_00000003.hdf',\n",
      " './snapshots/batch_00000004.hdf',\n",
      " './snapshots/batch_00000005.hdf',\n",
      " './snapshots/batch_00000006.hdf',\n",
      " './snapshots/batch_00000007.hdf',\n",
      " './snapshots/batch_00000008.hdf',\n",
      " './snapshots/batch_00000009.hdf']\n"
     ]
    }
   ],
   "source": [
    "# \"training.net_new_like_old.caffe_20170531.gunpowder_20170523/experiments/*/*\"\n",
    "malis_minibatches = list(sorted(\n",
    "        glob.glob(\"./snapshots/*.hdf\"\n",
    "        )))\n",
    "from pprint import pprint\n",
    "pprint(malis_minibatches)"
   ]
  },
  {
   "cell_type": "code",
   "execution_count": 68,
   "metadata": {
    "collapsed": false,
    "scrolled": false
   },
   "outputs": [
    {
     "name": "stdout",
     "output_type": "stream",
     "text": [
      "./snapshots/batch_00000009.hdf\n",
      "Adding layer batch_00000009.hdf/volumes/labels/affs\n",
      "Adding layer batch_00000009.hdf/volumes/labels/mask\n",
      "Adding layer batch_00000009.hdf/volumes/labels/neuron_ids\n",
      "Adding layer batch_00000009.hdf/volumes/predicted_affs\n",
      "Adding layer batch_00000009.hdf/volumes/raw\n"
     ]
    },
    {
     "data": {
      "text/html": [
       "<iframe src=\"http://slowpoke2:8888/neuroglancer#!%7B%22layers%22:%7B%22affs_gt%22:%7B%22source%22:%22python://http://slowpoke2:8888/99b710141fc90ad2bfe66feb296a311be0c12ad4%22,%22type%22:%22image%22,%22shader%22:%22void%20main()%20%7B%20emitRGB(vec3(toNormalized(getDataValue(0)),toNormalized(getDataValue(1)),toNormalized(getDataValue(2))));%20%7D%22%7D,%22mask%22:%7B%22source%22:%22python://http://slowpoke2:8888/ef704bb488c14837c758923c4fa303fa0d9dea41%22,%22type%22:%22image%22%7D,%22ids%22:%7B%22source%22:%22python://http://slowpoke2:8888/12b1859ebdb6bd5cf3531b718df380e4f7727de4%22,%22type%22:%22image%22%7D,%22affs_pred%22:%7B%22source%22:%22python://http://slowpoke2:8888/de631ba38c63e9b3bbff4a0bf6c93725ab565f0a%22,%22type%22:%22image%22,%22shader%22:%22void%20main()%20%7B%20emitRGB(vec3(toNormalized(getDataValue(0)),toNormalized(getDataValue(1)),toNormalized(getDataValue(2))));%20%7D%22%7D,%22raw%22:%7B%22source%22:%22python://http://slowpoke2:8888/fee056add1c10919f32413ebc84daa518ccc5d1a%22,%22type%22:%22image%22%7D%7D%7D\" width=\"100%\" height=\"1024px\"><\\iframe>"
      ],
      "text/plain": [
       "<IPython.core.display.HTML object>"
      ]
     },
     "execution_count": 68,
     "metadata": {},
     "output_type": "execute_result"
    }
   ],
   "source": [
    "path_to_minibatch = malis_minibatches[-1]\n",
    "print(path_to_minibatch)\n",
    "viewer = nyroglancer.Hdf5Viewer(path_to_minibatch)\n",
    "viewer.layers[0].name = \"affs_gt\"\n",
    "viewer.layers[1].name = \"mask\"\n",
    "viewer.layers[2].name = \"ids\"\n",
    "viewer.layers[3].name = \"affs_pred\"\n",
    "viewer.layers[4].name = \"raw\"\n",
    "viewer.set_hostname('slowpoke2:8888')\n",
    "viewer.show()"
   ]
  },
  {
   "cell_type": "markdown",
   "metadata": {
    "collapsed": false
   },
   "source": [
    "# path_to_minibatch = malis_minibatches[0]\n",
    "\n",
    "viewer = nyroglancer.Hdf5Viewer(path_to_minibatch)\n",
    "viewer.set_hostname('slowpoke2:8888')\n",
    "viewer.show()"
   ]
  },
  {
   "cell_type": "code",
   "execution_count": 4,
   "metadata": {
    "collapsed": false
   },
   "outputs": [
    {
     "name": "stdout",
     "output_type": "stream",
     "text": [
      "Adding layer 00000200.hdf/volumes/gt_affs\n",
      "Adding layer 00000200.hdf/volumes/labels/mask\n",
      "Adding layer 00000200.hdf/volumes/labels/neuron_ids\n",
      "Reshaping dataset 00000200.hdf/volumes/predicted_affs with shape (1, 3, 44, 44, 44) to be 4-dimensional\n",
      "Adding layer 00000200.hdf/volumes/predicted_affs\n",
      "Adding layer 00000200.hdf/volumes/raw\n"
     ]
    },
    {
     "data": {
      "text/html": [
       "<iframe src=\"http://slowpoke2:8888/neuroglancer#!%7B%22layers%22:%7B%2200000200.hdf/volumes/gt_affs%22:%7B%22source%22:%22python://http://slowpoke2:8888/ff82ade24befccf415524f8d4ce50754a69f567b%22,%22type%22:%22image%22,%22shader%22:%22void%20main()%20%7B%20emitRGB(vec3(toNormalized(getDataValue(0)),toNormalized(getDataValue(1)),toNormalized(getDataValue(2))));%20%7D%22%7D,%2200000200.hdf/volumes/labels/mask%22:%7B%22source%22:%22python://http://slowpoke2:8888/0f012da1af3cd593f2d70a2d28c95691015fd6bb%22,%22type%22:%22image%22%7D,%2200000200.hdf/volumes/labels/neuron_ids%22:%7B%22source%22:%22python://http://slowpoke2:8888/4a1cb9aaf3f7775c5d4dcddd3eea52ecf97e3931%22,%22type%22:%22image%22%7D,%2200000200.hdf/volumes/predicted_affs%22:%7B%22source%22:%22python://http://slowpoke2:8888/19bc93047670357c25bf4bcd69c22e8c64372492%22,%22type%22:%22image%22,%22shader%22:%22void%20main()%20%7B%20emitRGB(vec3(toNormalized(getDataValue(0)),toNormalized(getDataValue(1)),toNormalized(getDataValue(2))));%20%7D%22%7D,%2200000200.hdf/volumes/raw%22:%7B%22source%22:%22python://http://slowpoke2:8888/9289116289acc9b213c0c003f41cae03a5e0f3ad%22,%22type%22:%22image%22%7D%7D%7D\" width=\"100%\" height=\"1024px\"><\\iframe>"
      ],
      "text/plain": [
       "<IPython.core.display.HTML object>"
      ]
     },
     "execution_count": 4,
     "metadata": {},
     "output_type": "execute_result"
    }
   ],
   "source": [
    "path_to_minibatch = malis_minibatches[2]\n",
    "\n",
    "viewer = nyroglancer.Hdf5Viewer(path_to_minibatch)\n",
    "viewer.set_hostname('slowpoke2:8888')\n",
    "viewer.show()"
   ]
  },
  {
   "cell_type": "code",
   "execution_count": 5,
   "metadata": {
    "collapsed": false
   },
   "outputs": [
    {
     "name": "stdout",
     "output_type": "stream",
     "text": [
      "Adding layer 00000300.hdf/volumes/gt_affs\n",
      "Adding layer 00000300.hdf/volumes/labels/mask\n",
      "Adding layer 00000300.hdf/volumes/labels/neuron_ids\n",
      "Reshaping dataset 00000300.hdf/volumes/predicted_affs with shape (1, 3, 44, 44, 44) to be 4-dimensional\n",
      "Adding layer 00000300.hdf/volumes/predicted_affs\n",
      "Adding layer 00000300.hdf/volumes/raw\n"
     ]
    },
    {
     "data": {
      "text/html": [
       "<iframe src=\"http://slowpoke2:8888/neuroglancer#!%7B%22layers%22:%7B%2200000300.hdf/volumes/gt_affs%22:%7B%22source%22:%22python://http://slowpoke2:8888/2ab0cf51bd47e750befece909045cf13ee3e48f1%22,%22type%22:%22image%22,%22shader%22:%22void%20main()%20%7B%20emitRGB(vec3(toNormalized(getDataValue(0)),toNormalized(getDataValue(1)),toNormalized(getDataValue(2))));%20%7D%22%7D,%2200000300.hdf/volumes/labels/mask%22:%7B%22source%22:%22python://http://slowpoke2:8888/acee96578863e5f53ac7e999dae15bd749713823%22,%22type%22:%22image%22%7D,%2200000300.hdf/volumes/labels/neuron_ids%22:%7B%22source%22:%22python://http://slowpoke2:8888/d297f1ce28670c23708a466e6648afb3b630dc39%22,%22type%22:%22image%22%7D,%2200000300.hdf/volumes/predicted_affs%22:%7B%22source%22:%22python://http://slowpoke2:8888/05d602ea04f808d742c58cce0e87723dfa864b4f%22,%22type%22:%22image%22,%22shader%22:%22void%20main()%20%7B%20emitRGB(vec3(toNormalized(getDataValue(0)),toNormalized(getDataValue(1)),toNormalized(getDataValue(2))));%20%7D%22%7D,%2200000300.hdf/volumes/raw%22:%7B%22source%22:%22python://http://slowpoke2:8888/709ac6c111b1f994e595556d1e09ef31dea70208%22,%22type%22:%22image%22%7D%7D%7D\" width=\"100%\" height=\"1024px\"><\\iframe>"
      ],
      "text/plain": [
       "<IPython.core.display.HTML object>"
      ]
     },
     "execution_count": 5,
     "metadata": {},
     "output_type": "execute_result"
    }
   ],
   "source": [
    "path_to_minibatch = malis_minibatches[3]\n",
    "\n",
    "viewer = nyroglancer.Hdf5Viewer(path_to_minibatch)\n",
    "viewer.set_hostname('slowpoke2:8888')\n",
    "viewer.show()"
   ]
  },
  {
   "cell_type": "code",
   "execution_count": null,
   "metadata": {
    "collapsed": true
   },
   "outputs": [],
   "source": []
  }
 ],
 "metadata": {
  "kernelspec": {
   "display_name": "Python 2",
   "language": "python",
   "name": "python2"
  },
  "language_info": {
   "codemirror_mode": {
    "name": "ipython",
    "version": 2
   },
   "file_extension": ".py",
   "mimetype": "text/x-python",
   "name": "python",
   "nbconvert_exporter": "python",
   "pygments_lexer": "ipython2",
   "version": "2.7.11"
  }
 },
 "nbformat": 4,
 "nbformat_minor": 0
}
